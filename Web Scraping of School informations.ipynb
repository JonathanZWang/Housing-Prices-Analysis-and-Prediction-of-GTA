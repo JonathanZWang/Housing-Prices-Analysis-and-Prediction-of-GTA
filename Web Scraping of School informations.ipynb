{
 "cells": [
  {
   "cell_type": "code",
   "execution_count": 1,
   "metadata": {},
   "outputs": [
    {
     "name": "stdout",
     "output_type": "stream",
     "text": [
      "Libraries imported.\n"
     ]
    }
   ],
   "source": [
    "import numpy as np # library to handle data in a vectorized manner\n",
    "import pandas as pd # library for data analsysis\n",
    "from bs4 import BeautifulSoup\n",
    "import json # library to handle JSON files\n",
    "import requests # library to handle requests\n",
    "from pandas.io.json import json_normalize # tranform JSON file into a pandas dataframe\n",
    "\n",
    "print('Libraries imported.')"
   ]
  },
  {
   "cell_type": "code",
   "execution_count": 2,
   "metadata": {},
   "outputs": [],
   "source": [
    "url = (\n",
    "    \"http://ontario.compareschoolrankings.org/elementary/SchoolsByRankLocationName.aspx\"\n",
    ")\n"
   ]
  },
  {
   "cell_type": "code",
   "execution_count": null,
   "metadata": {},
   "outputs": [],
   "source": [
    "from urllib import request\n",
    "\n",
    "uClient = request.urlopen(url)\n",
    "page_html = uClient.read()\n",
    "uClient.close()\n",
    "page_soup = BeautifulSoup(page_html, \"html.parser\")\n"
   ]
  },
  {
   "cell_type": "code",
   "execution_count": null,
   "metadata": {},
   "outputs": [],
   "source": [
    "table = page_soup.find_all(\"table\")[0]\n",
    "href = table.find_all(\"table\")[9]\n",
    "href.find_all(\"href\")\n",
    "href = href.find_all(\"table\")[0]\n",
    "href = href.find_all(\"tr\")[1:]\n",
    "len(href)\n"
   ]
  },
  {
   "cell_type": "code",
   "execution_count": null,
   "metadata": {},
   "outputs": [],
   "source": [
    "school_name_list = []\n",
    "school_city_list = []\n",
    "school_score_list = []\n",
    "school_post_code_list = []\n",
    "address_list = []\n",
    "\n",
    "for i in range(len(href)):\n",
    "    school_name = href[i].find_all(\"td\")[3].find_all(\"a\")[0].contents[0]\n",
    "    school_city = href[i].find_all(\"td\")[4].contents[0]\n",
    "    school_score = float(href[i].find_all(\"td\")[5].contents[0])\n",
    "    school_url = href[i].find_all(\"td\")[3].find_all(\"a\")[0][\"href\"]\n",
    "    school_url = \"http://ontario.compareschoolrankings.org\" + school_url\n",
    "\n",
    "    uClient = request.urlopen(school_url)\n",
    "    page_html = uClient.read()\n",
    "    uClient.close()\n",
    "    school_page_soup = BeautifulSoup(page_html, \"html.parser\")\n",
    "\n",
    "    location = school_page_soup.find_all(\"span\")[1].contents\n",
    "    post_code = location[6].split()[-1]\n",
    "    address = location[4].strip()\n",
    "\n",
    "    school_name_list.append(school_name)\n",
    "    school_city_list.append(school_city)\n",
    "    school_score_list.append(school_score)\n",
    "    school_post_code_list.append(post_code)\n",
    "    address_list.append(address)\n",
    "\n",
    "    time.sleep(1)\n",
    "    print(i, school_name)\n"
   ]
  },
  {
   "cell_type": "code",
   "execution_count": null,
   "metadata": {},
   "outputs": [],
   "source": [
    "df = pd.DataFrame(\n",
    "    [\n",
    "        school_name_list,\n",
    "        school_city_list,\n",
    "        school_score_list,\n",
    "        school_post_code_list,\n",
    "        address_list,\n",
    "    ]\n",
    ").T\n",
    "df\n"
   ]
  },
  {
   "cell_type": "code",
   "execution_count": null,
   "metadata": {},
   "outputs": [],
   "source": [
    "df.to_csv(\n",
    "    \"school_scores.csv\",\n",
    "    header=[\n",
    "        \"school_name\",\n",
    "        \"school_city\",\n",
    "        \"school_score\",\n",
    "        \"school_post_code\",\n",
    "        \"address\",\n",
    "    ],\n",
    ")\n"
   ]
  }
 ],
 "metadata": {
  "kernelspec": {
   "display_name": "Python 3",
   "language": "python",
   "name": "python3"
  },
  "language_info": {
   "codemirror_mode": {
    "name": "ipython",
    "version": 3
   },
   "file_extension": ".py",
   "mimetype": "text/x-python",
   "name": "python",
   "nbconvert_exporter": "python",
   "pygments_lexer": "ipython3",
   "version": "3.6.7"
  }
 },
 "nbformat": 4,
 "nbformat_minor": 2
}
